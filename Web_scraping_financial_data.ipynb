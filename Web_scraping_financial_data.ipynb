{
 "cells": [
  {
   "cell_type": "markdown",
   "metadata": {},
   "source": [
    "# Planejamento do projeto\n",
    "\n",
    "## Resultado final\n",
    "    - Uma classe em linguagem python em que o usuário digita o símbolo da ação (stock ticker) e recebe uma série \n",
    "    de gráficos e análises da empresa selecionada.\n",
    "    - Quais análises serão entregues?\n",
    "        . Gráfico interativo com o comportamento das ações no tempo;\n",
    "        . Relatório com os principais indicadores;\n",
    "        . Avaliação de investimento, favorável ou desvaforável?\n",
    "        . Previsão de comportamento?\n",
    "\n",
    "## Ferramental\n",
    "    - Utilizar o Jupyter Notebook para a escrita e interpretação do código;\n",
    "    - Utilizar a biblioteca Selenium ou urllib.request para analisar conteudos de páginas;\n",
    "    - Utilizar a biblioteca Beautiful Soup que torna possível ler o conteúdo das páginas HTML;\n",
    "    - Utilizar a biblioteca Pandas para armazenar o conteúdo das páginas em DataFrames;\n",
    "    - Utilizar a biblioteca Numpy para realização de operações;\n",
    "    - Utilizar a biblioteca Plotly para desenhar gráficos interativos;\n",
    "    - Utilizar a biblioetca pyplot da matplotlib para criação de gráficos e dashboards;\n",
    "    - Utilizar a biblioteca sklearn para a adaptação de um modelo de previsão de preço de ação.\n",
    "    \n",
    "## Processo de desenvolvimento\n",
    "    - Coletar os dados das páginas que contêm informações sobre ações: https://finance.yahoo.com/ \n",
    "    - Organizar os dados em DataFrames\n",
    "    - Tratar os dados, isto é, retirar dados duplicados, tratar dados faltantes, ajustar indices e headers\n",
    "    - Gerar as análises dos dados"
   ]
  },
  {
   "cell_type": "code",
   "execution_count": null,
   "metadata": {},
   "outputs": [],
   "source": []
  },
  {
   "cell_type": "code",
   "execution_count": null,
   "metadata": {},
   "outputs": [],
   "source": []
  },
  {
   "cell_type": "code",
   "execution_count": null,
   "metadata": {},
   "outputs": [],
   "source": []
  },
  {
   "cell_type": "code",
   "execution_count": null,
   "metadata": {},
   "outputs": [],
   "source": []
  },
  {
   "cell_type": "code",
   "execution_count": null,
   "metadata": {},
   "outputs": [],
   "source": []
  },
  {
   "cell_type": "code",
   "execution_count": null,
   "metadata": {},
   "outputs": [],
   "source": []
  },
  {
   "cell_type": "code",
   "execution_count": null,
   "metadata": {},
   "outputs": [],
   "source": []
  },
  {
   "cell_type": "code",
   "execution_count": null,
   "metadata": {},
   "outputs": [],
   "source": []
  }
 ],
 "metadata": {
  "kernelspec": {
   "display_name": "Python 3",
   "language": "python",
   "name": "python3"
  },
  "language_info": {
   "codemirror_mode": {
    "name": "ipython",
    "version": 3
   },
   "file_extension": ".py",
   "mimetype": "text/x-python",
   "name": "python",
   "nbconvert_exporter": "python",
   "pygments_lexer": "ipython3",
   "version": "3.7.6"
  }
 },
 "nbformat": 4,
 "nbformat_minor": 4
}
